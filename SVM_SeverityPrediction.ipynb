{
  "nbformat": 4,
  "nbformat_minor": 0,
  "metadata": {
    "colab": {
      "provenance": []
    },
    "kernelspec": {
      "name": "python3",
      "display_name": "Python 3"
    },
    "language_info": {
      "name": "python"
    }
  },
  "cells": [
    {
      "cell_type": "markdown",
      "source": [
        "#SVM"
      ],
      "metadata": {
        "id": "qtFxl4J9lWzW"
      }
    },
    {
      "cell_type": "code",
      "execution_count": 8,
      "metadata": {
        "id": "3fFG6jQtlIb-"
      },
      "outputs": [],
      "source": [
        "import pandas as pd\n",
        "import numpy as np\n",
        "import matplotlib.pyplot as plt\n",
        "import seaborn as sns\n",
        "from sklearn.model_selection import train_test_split, GridSearchCV, StratifiedKFold, cross_val_score\n",
        "from sklearn.preprocessing import LabelEncoder, StandardScaler\n",
        "from sklearn.metrics import classification_report, confusion_matrix\n",
        "from sklearn.svm import SVC\n",
        "from imblearn.over_sampling import SMOTE\n",
        "\n",
        "# We load the dataset, select the most relevant features based on previous studies and analysis, select target\n",
        "df = pd.read_csv(\"RTA Dataset.csv\")\n",
        "\n",
        "selected_features = [\n",
        "    'Day_of_week', 'Age_band_of_driver', 'Sex_of_driver', 'Educational_level',\n",
        "    'Vehicle_driver_relation', 'Driving_experience', 'Type_of_vehicle',\n",
        "    'Owner_of_vehicle', 'Service_year_of_vehicle', 'Defect_of_vehicle',\n",
        "    'Area_accident_occured', 'Lanes_or_Medians', 'Road_allignment',\n",
        "    'Types_of_Junction', 'Road_surface_type', 'Road_surface_conditions',\n",
        "    'Light_conditions', 'Weather_conditions', 'Type_of_collision',\n",
        "    'Number_of_vehicles_involved', 'Number_of_casualties',\n",
        "    'Vehicle_movement', 'Cause_of_accident'\n",
        "]\n",
        "\n",
        "target = 'Accident_severity'"
      ]
    },
    {
      "cell_type": "code",
      "source": [
        "# We will deal with the missing data, encode categorical values, feature-target split, apply SMOTE\n",
        "df = df[selected_features + [target]]\n",
        "for col in df.columns:\n",
        "    if df[col].dtype == 'object':\n",
        "        df[col] = df[col].fillna('Unknown')\n",
        "    else:\n",
        "        df[col] = df[col].fillna(df[col].mean())\n",
        "\n",
        "label_encoders = {}\n",
        "for col in df.columns:\n",
        "    le = LabelEncoder()\n",
        "    df[col] = le.fit_transform(df[col].astype(str))\n",
        "    label_encoders[col] = le\n",
        "\n",
        "X = df.drop(target, axis=1)\n",
        "y = df[target]\n",
        "\n",
        "smote = SMOTE(random_state=42)\n",
        "X_smote, y_smote = smote.fit_resample(X, y)\n",
        "\n"
      ],
      "metadata": {
        "id": "Q3orPNNzl10_"
      },
      "execution_count": 10,
      "outputs": []
    },
    {
      "cell_type": "code",
      "source": [
        "# Now do the train-test split, scale features\n",
        "X_train, X_test, y_train, y_test = train_test_split(\n",
        "    X_smote, y_smote, test_size=0.3, random_state=42, stratify=y_smote)\n",
        "\n",
        "scaler = StandardScaler()\n",
        "X_train_scaled = scaler.fit_transform(X_train)\n",
        "X_test_scaled = scaler.transform(X_test)\n",
        "\n",
        "# SVM parameter grid & Grid Search\n",
        "param_grid = {\n",
        "    'C': [0.1, 1],\n",
        "    'gamma': ['scale', 0.1],\n",
        "    'kernel': ['rbf', 'linear']\n",
        "}\n",
        "svc = SVC()\n",
        "grid_search = GridSearchCV(\n",
        "    svc, param_grid,\n",
        "    cv=StratifiedKFold(n_splits=5),\n",
        "    scoring='f1_macro',\n",
        "    return_train_score=True,\n",
        "    verbose=1,\n",
        "    n_jobs=-1\n",
        ")\n",
        "\n",
        "grid_search.fit(X_train_scaled, y_train)\n",
        "\n",
        "print(\"\\nAll parameter combinations with F1 and Accuracy:\\n\")         # To print F1 and accuracy for each configuration\n",
        "for i, params in enumerate(grid_search.cv_results_['params']):\n",
        "    f1 = grid_search.cv_results_['mean_test_score'][i]\n",
        "    model = SVC(**params)\n",
        "    acc = cross_val_score(model, X_train_scaled, y_train, scoring='accuracy', cv=StratifiedKFold(n_splits=5)).mean()\n",
        "    print(f\"Params: {params} --> Mean F1: {f1:.4f} | Mean Accuracy: {acc:.4f}\")\n",
        "\n",
        "# We evaluate best model & print the classification report\n",
        "best_model = grid_search.best_estimator_\n",
        "y_pred = best_model.predict(X_test_scaled)\n",
        "\n",
        "report_dict = classification_report(y_test, y_pred, output_dict=True)\n",
        "report_df = pd.DataFrame(report_dict).transpose()\n",
        "print(\"\\nBest Model Evaluation:\")\n",
        "print(report_df)\n",
        "\n",
        "# Confusion matrix\n",
        "cm = confusion_matrix(y_test, y_pred)\n",
        "plt.figure(figsize=(8, 6))\n",
        "sns.heatmap(cm, annot=True, fmt='d', cmap='YlGnBu',\n",
        "            xticklabels=label_encoders[target].classes_,\n",
        "            yticklabels=label_encoders[target].classes_)\n",
        "plt.title(\"Confusion Matrix (SVM)\")\n",
        "plt.xlabel(\"Predicted\")\n",
        "plt.ylabel(\"Actual\")\n",
        "plt.tight_layout()\n",
        "plt.show()\n",
        "\n"
      ],
      "metadata": {
        "colab": {
          "base_uri": "https://localhost:8080/",
          "height": 971
        },
        "id": "4KluP8kBmgcV",
        "outputId": "9d0018af-8de4-4064-ed74-bbd5d7184a47"
      },
      "execution_count": 12,
      "outputs": [
        {
          "output_type": "stream",
          "name": "stdout",
          "text": [
            "Fitting 5 folds for each of 8 candidates, totalling 40 fits\n",
            "\n",
            "All parameter combinations with F1 and Accuracy:\n",
            "\n",
            "Params: {'C': 0.1, 'gamma': 'scale', 'kernel': 'rbf'} --> Mean F1: 0.7440 | Mean Accuracy: 0.7455\n",
            "Params: {'C': 0.1, 'gamma': 'scale', 'kernel': 'linear'} --> Mean F1: 0.6015 | Mean Accuracy: 0.6018\n",
            "Params: {'C': 0.1, 'gamma': 0.1, 'kernel': 'rbf'} --> Mean F1: 0.7936 | Mean Accuracy: 0.7970\n",
            "Params: {'C': 0.1, 'gamma': 0.1, 'kernel': 'linear'} --> Mean F1: 0.6015 | Mean Accuracy: 0.6018\n",
            "Params: {'C': 1, 'gamma': 'scale', 'kernel': 'rbf'} --> Mean F1: 0.8502 | Mean Accuracy: 0.8519\n",
            "Params: {'C': 1, 'gamma': 'scale', 'kernel': 'linear'} --> Mean F1: 0.6014 | Mean Accuracy: 0.6017\n",
            "Params: {'C': 1, 'gamma': 0.1, 'kernel': 'rbf'} --> Mean F1: 0.8999 | Mean Accuracy: 0.9003\n",
            "Params: {'C': 1, 'gamma': 0.1, 'kernel': 'linear'} --> Mean F1: 0.6014 | Mean Accuracy: 0.6017\n",
            "\n",
            "Best Model Evaluation:\n",
            "              precision    recall  f1-score     support\n",
            "0              0.982047  0.998079  0.989998  3124.00000\n",
            "1              0.862135  0.860480  0.861307  3125.00000\n",
            "2              0.863961  0.851520  0.857695  3125.00000\n",
            "accuracy       0.903350  0.903350  0.903350     0.90335\n",
            "macro avg      0.902715  0.903360  0.903000  9374.00000\n",
            "weighted avg   0.902706  0.903350  0.902991  9374.00000\n"
          ]
        },
        {
          "output_type": "display_data",
          "data": {
            "text/plain": [
              "<Figure size 800x600 with 2 Axes>"
            ],
            "image/png": "[encoded data removed]"
          },
          "metadata": {}
        }
      ]
    }
  ]
}